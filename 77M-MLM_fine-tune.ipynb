{
 "cells": [
  {
   "cell_type": "markdown",
   "id": "2ace4699",
   "metadata": {},
   "source": [
    "# Fine-Tuning ChemBERTa for Regression"
   ]
  },
  {
   "cell_type": "markdown",
   "id": "6614ed41-7f65-4495-aa3d-8fba22013597",
   "metadata": {},
   "source": [
    "Different learning rates, number of epochs, and batch sizes were explored"
   ]
  },
  {
   "cell_type": "code",
   "execution_count": null,
   "id": "9bff167f-c177-4f9f-9408-bd499f2d63e8",
   "metadata": {},
   "outputs": [],
   "source": [
    "import pandas as pd\n",
    "import numpy as np\n",
    "import torch\n",
    "from sklearn.model_selection import train_test_split\n",
    "from torch.utils.data import TensorDataset, DataLoader\n",
    "from transformers import AutoTokenizer, AutoModelForSequenceClassification\n",
    "from tqdm import tqdm\n",
    "import torch.nn as nn"
   ]
  },
  {
   "cell_type": "code",
   "execution_count": 2,
   "id": "c1d30e92-0aea-498c-8d3f-d8b24cf4aeeb",
   "metadata": {},
   "outputs": [
    {
     "name": "stdout",
     "output_type": "stream",
     "text": [
      "Number of examples is: 133055\n"
     ]
    },
    {
     "data": {
      "text/html": [
       "<div>\n",
       "<style scoped>\n",
       "    .dataframe tbody tr th:only-of-type {\n",
       "        vertical-align: middle;\n",
       "    }\n",
       "\n",
       "    .dataframe tbody tr th {\n",
       "        vertical-align: top;\n",
       "    }\n",
       "\n",
       "    .dataframe thead th {\n",
       "        text-align: right;\n",
       "    }\n",
       "</style>\n",
       "<table border=\"1\" class=\"dataframe\">\n",
       "  <thead>\n",
       "    <tr style=\"text-align: right;\">\n",
       "      <th></th>\n",
       "      <th>PBE_TZP</th>\n",
       "      <th>B3LYP(VWN5)_TZP</th>\n",
       "      <th>GFNXTB</th>\n",
       "      <th>M06-2X_TZP</th>\n",
       "      <th>smiles</th>\n",
       "      <th>chemformula</th>\n",
       "      <th>index</th>\n",
       "    </tr>\n",
       "  </thead>\n",
       "  <tbody>\n",
       "    <tr>\n",
       "      <th>0</th>\n",
       "      <td>-18.261372</td>\n",
       "      <td>-19.140565</td>\n",
       "      <td>-21.979934</td>\n",
       "      <td>-19.987828</td>\n",
       "      <td>[H]C([H])([H])[H]</td>\n",
       "      <td>CH4</td>\n",
       "      <td>1</td>\n",
       "    </tr>\n",
       "    <tr>\n",
       "      <th>1</th>\n",
       "      <td>-12.975380</td>\n",
       "      <td>-12.896428</td>\n",
       "      <td>-17.405808</td>\n",
       "      <td>-12.694483</td>\n",
       "      <td>[H]N([H])[H]</td>\n",
       "      <td>H3N</td>\n",
       "      <td>2</td>\n",
       "    </tr>\n",
       "    <tr>\n",
       "      <th>2</th>\n",
       "      <td>-10.370616</td>\n",
       "      <td>-11.226953</td>\n",
       "      <td>-14.033122</td>\n",
       "      <td>-12.538535</td>\n",
       "      <td>[H]O[H]</td>\n",
       "      <td>H2O</td>\n",
       "      <td>3</td>\n",
       "    </tr>\n",
       "    <tr>\n",
       "      <th>3</th>\n",
       "      <td>-18.070231</td>\n",
       "      <td>-19.266542</td>\n",
       "      <td>-22.665365</td>\n",
       "      <td>-21.246587</td>\n",
       "      <td>[H]C#C[H]</td>\n",
       "      <td>C2H2</td>\n",
       "      <td>4</td>\n",
       "    </tr>\n",
       "    <tr>\n",
       "      <th>4</th>\n",
       "      <td>-14.127323</td>\n",
       "      <td>-14.386552</td>\n",
       "      <td>-19.345571</td>\n",
       "      <td>-15.292001</td>\n",
       "      <td>[H]C#N</td>\n",
       "      <td>CHN</td>\n",
       "      <td>5</td>\n",
       "    </tr>\n",
       "  </tbody>\n",
       "</table>\n",
       "</div>"
      ],
      "text/plain": [
       "     PBE_TZP  B3LYP(VWN5)_TZP     GFNXTB  M06-2X_TZP             smiles  \\\n",
       "0 -18.261372       -19.140565 -21.979934  -19.987828  [H]C([H])([H])[H]   \n",
       "1 -12.975380       -12.896428 -17.405808  -12.694483       [H]N([H])[H]   \n",
       "2 -10.370616       -11.226953 -14.033122  -12.538535            [H]O[H]   \n",
       "3 -18.070231       -19.266542 -22.665365  -21.246587          [H]C#C[H]   \n",
       "4 -14.127323       -14.386552 -19.345571  -15.292001             [H]C#N   \n",
       "\n",
       "  chemformula  index  \n",
       "0         CH4      1  \n",
       "1         H3N      2  \n",
       "2         H2O      3  \n",
       "3        C2H2      4  \n",
       "4         CHN      5  "
      ]
     },
     "execution_count": 2,
     "metadata": {},
     "output_type": "execute_result"
    }
   ],
   "source": [
    "# Load the dataset\n",
    "df = pd.read_csv(\"data/qm9_recommended_data.csv\")\n",
    "print(f'Number of examples is: {len(df)}')\n",
    "df.head()"
   ]
  },
  {
   "cell_type": "code",
   "execution_count": 3,
   "id": "04851bc1-5707-4bd5-b39d-0d5d618dd116",
   "metadata": {},
   "outputs": [
    {
     "name": "stderr",
     "output_type": "stream",
     "text": [
      "Some weights of RobertaForSequenceClassification were not initialized from the model checkpoint at DeepChem/ChemBERTa-77M-MLM and are newly initialized: ['classifier.dense.bias', 'classifier.dense.weight', 'classifier.out_proj.bias', 'classifier.out_proj.weight']\n",
      "You should probably TRAIN this model on a down-stream task to be able to use it for predictions and inference.\n"
     ]
    },
    {
     "name": "stdout",
     "output_type": "stream",
     "text": [
      "512\n"
     ]
    }
   ],
   "source": [
    "# Load the pre-trained model and tokenizer\n",
    "model_name = \"DeepChem/ChemBERTa-77M-MLM\"\n",
    "model = AutoModelForSequenceClassification.from_pretrained(model_name, num_labels=1)\n",
    "tokenizer = AutoTokenizer.from_pretrained(model_name)\n",
    "\n",
    "# Determine the maximum sequence length\n",
    "max_length = tokenizer.model_max_length\n",
    "print(max_length)"
   ]
  },
  {
   "cell_type": "code",
   "execution_count": 4,
   "id": "555dcb6a",
   "metadata": {},
   "outputs": [],
   "source": [
    "from rdkit import Chem\n",
    "from rdkit.Chem import AllChem\n",
    "\n",
    "def canonical_smiles(smiles):\n",
    "    canonicalized_smiles = []\n",
    "\n",
    "    for smi in smiles:\n",
    "        try:\n",
    "            # Create a molecule and sanitize it\n",
    "            mol = Chem.MolFromSmiles(smi, sanitize=False)\n",
    "            if mol is None:\n",
    "                raise ValueError(f\"Invalid SMILES: {smi}\")\n",
    "\n",
    "            # Sanitize the molecule\n",
    "            Chem.SanitizeMol(mol)\n",
    "\n",
    "            # Convert to canonical SMILES\n",
    "            canonicalized_smiles.append(Chem.MolToSmiles(mol))\n",
    "        except Exception as e:\n",
    "            print(f\"Error processing SMILES '{smi}': {e}\")\n",
    "            canonicalized_smiles.append(None)  # Append None for invalid SMILES\n",
    "\n",
    "    return canonicalized_smiles"
   ]
  },
  {
   "cell_type": "code",
   "execution_count": 5,
   "id": "37f37390",
   "metadata": {},
   "outputs": [
    {
     "name": "stdout",
     "output_type": "stream",
     "text": [
      "133055\n",
      "133055\n"
     ]
    }
   ],
   "source": [
    "# Runf the canonicalization\n",
    "canonicalized_smiles = canonical_smiles(df['smiles'].tolist())\n",
    "print(len(df))\n",
    "print(len(canonicalized_smiles))"
   ]
  },
  {
   "cell_type": "code",
   "execution_count": 6,
   "id": "28fee481",
   "metadata": {},
   "outputs": [],
   "source": [
    "# Add CANONICAL_SMILES\n",
    "df['CANONICAL_SMILES'] = canonicalized_smiles    "
   ]
  },
  {
   "cell_type": "code",
   "execution_count": 7,
   "id": "755634da-6e15-46c3-a9d2-fdc7bd2aa75e",
   "metadata": {},
   "outputs": [
    {
     "name": "stderr",
     "output_type": "stream",
     "text": [
      "  0%|          | 0/133055 [00:00<?, ?it/s]"
     ]
    },
    {
     "name": "stderr",
     "output_type": "stream",
     "text": [
      "100%|██████████| 133055/133055 [00:12<00:00, 10931.33it/s]\n"
     ]
    }
   ],
   "source": [
    "# Tokenization function\n",
    "def tokenize(string):\n",
    "    \"\"\"\n",
    "    Tokenize and encode a string using the provided tokenizer.\n",
    "    \n",
    "    Parameters:\n",
    "        string (str): Input string to be tokenized.\n",
    "    \n",
    "    Returns:\n",
    "        Tuple of input_ids and attention_mask.\n",
    "    \"\"\"\n",
    "    encodings = tokenizer.encode_plus(\n",
    "        string,\n",
    "        add_special_tokens=True,\n",
    "        truncation=True,\n",
    "        padding=\"max_length\",\n",
    "        max_length=max_length,\n",
    "        return_attention_mask=True\n",
    "    )\n",
    "    input_ids = encodings[\"input_ids\"]\n",
    "    attention_mask = encodings[\"attention_mask\"]\n",
    "    return input_ids, attention_mask\n",
    "\n",
    "# Tokenize the 'CANONICAL_SMILES' column and create new columns 'input_ids' and 'attention_mask'\n",
    "tqdm.pandas()\n",
    "df[[\"input_ids\", \"attention_mask\"]] = df[\"smiles\"].progress_apply(lambda x: tokenize(x)).apply(pd.Series)"
   ]
  },
  {
   "cell_type": "code",
   "execution_count": 8,
   "id": "8ec7d46a",
   "metadata": {},
   "outputs": [
    {
     "data": {
      "text/html": [
       "<div>\n",
       "<style scoped>\n",
       "    .dataframe tbody tr th:only-of-type {\n",
       "        vertical-align: middle;\n",
       "    }\n",
       "\n",
       "    .dataframe tbody tr th {\n",
       "        vertical-align: top;\n",
       "    }\n",
       "\n",
       "    .dataframe thead th {\n",
       "        text-align: right;\n",
       "    }\n",
       "</style>\n",
       "<table border=\"1\" class=\"dataframe\">\n",
       "  <thead>\n",
       "    <tr style=\"text-align: right;\">\n",
       "      <th></th>\n",
       "      <th>PBE_TZP</th>\n",
       "      <th>B3LYP(VWN5)_TZP</th>\n",
       "      <th>GFNXTB</th>\n",
       "      <th>M06-2X_TZP</th>\n",
       "      <th>smiles</th>\n",
       "      <th>chemformula</th>\n",
       "      <th>index</th>\n",
       "      <th>CANONICAL_SMILES</th>\n",
       "      <th>input_ids</th>\n",
       "      <th>attention_mask</th>\n",
       "    </tr>\n",
       "  </thead>\n",
       "  <tbody>\n",
       "    <tr>\n",
       "      <th>0</th>\n",
       "      <td>-18.261372</td>\n",
       "      <td>-19.140565</td>\n",
       "      <td>-21.979934</td>\n",
       "      <td>-19.987828</td>\n",
       "      <td>[H]C([H])([H])[H]</td>\n",
       "      <td>CH4</td>\n",
       "      <td>1</td>\n",
       "      <td>[H]C([H])([H])[H]</td>\n",
       "      <td>[12, 16, 17, 18, 17, 18, 13, 0, 0, 0, 0, 0, 0,...</td>\n",
       "      <td>[1, 1, 1, 1, 1, 1, 1, 0, 0, 0, 0, 0, 0, 0, 0, ...</td>\n",
       "    </tr>\n",
       "    <tr>\n",
       "      <th>1</th>\n",
       "      <td>-12.975380</td>\n",
       "      <td>-12.896428</td>\n",
       "      <td>-17.405808</td>\n",
       "      <td>-12.694483</td>\n",
       "      <td>[H]N([H])[H]</td>\n",
       "      <td>H3N</td>\n",
       "      <td>2</td>\n",
       "      <td>[H]N([H])[H]</td>\n",
       "      <td>[12, 23, 17, 18, 13, 0, 0, 0, 0, 0, 0, 0, 0, 0...</td>\n",
       "      <td>[1, 1, 1, 1, 1, 0, 0, 0, 0, 0, 0, 0, 0, 0, 0, ...</td>\n",
       "    </tr>\n",
       "    <tr>\n",
       "      <th>2</th>\n",
       "      <td>-10.370616</td>\n",
       "      <td>-11.226953</td>\n",
       "      <td>-14.033122</td>\n",
       "      <td>-12.538535</td>\n",
       "      <td>[H]O[H]</td>\n",
       "      <td>H2O</td>\n",
       "      <td>3</td>\n",
       "      <td>[H]O[H]</td>\n",
       "      <td>[12, 19, 13, 0, 0, 0, 0, 0, 0, 0, 0, 0, 0, 0, ...</td>\n",
       "      <td>[1, 1, 1, 0, 0, 0, 0, 0, 0, 0, 0, 0, 0, 0, 0, ...</td>\n",
       "    </tr>\n",
       "    <tr>\n",
       "      <th>3</th>\n",
       "      <td>-18.070231</td>\n",
       "      <td>-19.266542</td>\n",
       "      <td>-22.665365</td>\n",
       "      <td>-21.246587</td>\n",
       "      <td>[H]C#C[H]</td>\n",
       "      <td>C2H2</td>\n",
       "      <td>4</td>\n",
       "      <td>[H]C#C[H]</td>\n",
       "      <td>[12, 16, 38, 16, 13, 0, 0, 0, 0, 0, 0, 0, 0, 0...</td>\n",
       "      <td>[1, 1, 1, 1, 1, 0, 0, 0, 0, 0, 0, 0, 0, 0, 0, ...</td>\n",
       "    </tr>\n",
       "    <tr>\n",
       "      <th>4</th>\n",
       "      <td>-14.127323</td>\n",
       "      <td>-14.386552</td>\n",
       "      <td>-19.345571</td>\n",
       "      <td>-15.292001</td>\n",
       "      <td>[H]C#N</td>\n",
       "      <td>CHN</td>\n",
       "      <td>5</td>\n",
       "      <td>[H]C#N</td>\n",
       "      <td>[12, 16, 38, 23, 13, 0, 0, 0, 0, 0, 0, 0, 0, 0...</td>\n",
       "      <td>[1, 1, 1, 1, 1, 0, 0, 0, 0, 0, 0, 0, 0, 0, 0, ...</td>\n",
       "    </tr>\n",
       "  </tbody>\n",
       "</table>\n",
       "</div>"
      ],
      "text/plain": [
       "     PBE_TZP  B3LYP(VWN5)_TZP     GFNXTB  M06-2X_TZP             smiles  \\\n",
       "0 -18.261372       -19.140565 -21.979934  -19.987828  [H]C([H])([H])[H]   \n",
       "1 -12.975380       -12.896428 -17.405808  -12.694483       [H]N([H])[H]   \n",
       "2 -10.370616       -11.226953 -14.033122  -12.538535            [H]O[H]   \n",
       "3 -18.070231       -19.266542 -22.665365  -21.246587          [H]C#C[H]   \n",
       "4 -14.127323       -14.386552 -19.345571  -15.292001             [H]C#N   \n",
       "\n",
       "  chemformula  index   CANONICAL_SMILES  \\\n",
       "0         CH4      1  [H]C([H])([H])[H]   \n",
       "1         H3N      2       [H]N([H])[H]   \n",
       "2         H2O      3            [H]O[H]   \n",
       "3        C2H2      4          [H]C#C[H]   \n",
       "4         CHN      5             [H]C#N   \n",
       "\n",
       "                                           input_ids  \\\n",
       "0  [12, 16, 17, 18, 17, 18, 13, 0, 0, 0, 0, 0, 0,...   \n",
       "1  [12, 23, 17, 18, 13, 0, 0, 0, 0, 0, 0, 0, 0, 0...   \n",
       "2  [12, 19, 13, 0, 0, 0, 0, 0, 0, 0, 0, 0, 0, 0, ...   \n",
       "3  [12, 16, 38, 16, 13, 0, 0, 0, 0, 0, 0, 0, 0, 0...   \n",
       "4  [12, 16, 38, 23, 13, 0, 0, 0, 0, 0, 0, 0, 0, 0...   \n",
       "\n",
       "                                      attention_mask  \n",
       "0  [1, 1, 1, 1, 1, 1, 1, 0, 0, 0, 0, 0, 0, 0, 0, ...  \n",
       "1  [1, 1, 1, 1, 1, 0, 0, 0, 0, 0, 0, 0, 0, 0, 0, ...  \n",
       "2  [1, 1, 1, 0, 0, 0, 0, 0, 0, 0, 0, 0, 0, 0, 0, ...  \n",
       "3  [1, 1, 1, 1, 1, 0, 0, 0, 0, 0, 0, 0, 0, 0, 0, ...  \n",
       "4  [1, 1, 1, 1, 1, 0, 0, 0, 0, 0, 0, 0, 0, 0, 0, ...  "
      ]
     },
     "execution_count": 8,
     "metadata": {},
     "output_type": "execute_result"
    }
   ],
   "source": [
    "df.head()"
   ]
  },
  {
   "cell_type": "code",
   "execution_count": 9,
   "id": "63fade54-27fa-4ff1-af69-ea8d96c4ec1d",
   "metadata": {},
   "outputs": [
    {
     "name": "stdout",
     "output_type": "stream",
     "text": [
      "There are 106444 molecules in Train df.\n",
      "There are 13305 molecules in Val df.\n",
      "There are 13306 molecules in Test df.\n"
     ]
    }
   ],
   "source": [
    "# Split the dataset into train, validation, and test sets\n",
    "train_df, temp_df = train_test_split(df, test_size=0.2, random_state=21)\n",
    "val_df, test_df = train_test_split(temp_df, test_size=0.5, random_state=21)\n",
    "print(f\"There are {len(train_df)} molecules in Train df.\")\n",
    "print(f\"There are {len(val_df)} molecules in Val df.\")\n",
    "print(f\"There are {len(test_df)} molecules in Test df.\")"
   ]
  },
  {
   "cell_type": "code",
   "execution_count": 10,
   "id": "a7d9638c-b3fc-4063-8ea8-a1303178466f",
   "metadata": {},
   "outputs": [],
   "source": [
    "# Function to convert data to PyTorch tensors\n",
    "def get_tensor_data(data):\n",
    "    \"\"\"\n",
    "    Convert data to PyTorch tensors.\n",
    "    \n",
    "    Parameters:\n",
    "        data (DataFrame): Input data containing 'input_ids', 'attention_mask', and 'pIC50' columns.\n",
    "    \n",
    "    Returns:\n",
    "        TensorDataset containing input_ids, attention_mask, and labels tensors.\n",
    "    \"\"\"\n",
    "    input_ids_tensor = torch.tensor(data[\"input_ids\"].tolist(), dtype=torch.int32)\n",
    "    attention_mask_tensor = torch.tensor(data[\"attention_mask\"].tolist(), dtype=torch.int32)\n",
    "    labels_tensor = torch.tensor(data[\"PBE_TZP\"].tolist(), dtype=torch.float32)\n",
    "    return TensorDataset(input_ids_tensor, attention_mask_tensor, labels_tensor)\n",
    "\n",
    "# Create datasets and data loaders\n",
    "train_dataset = get_tensor_data(train_df)\n",
    "val_dataset = get_tensor_data(val_df)\n",
    "test_dataset = get_tensor_data(test_df)\n",
    "\n",
    "batch_size = 32\n",
    "train_loader = DataLoader(train_dataset, batch_size=batch_size, shuffle=True)\n",
    "val_loader = DataLoader(val_dataset, batch_size=batch_size)\n",
    "test_loader = DataLoader(test_dataset, batch_size=batch_size)"
   ]
  },
  {
   "cell_type": "code",
   "execution_count": 11,
   "id": "6ebfebf6-b6db-4082-ab9a-70b79884014f",
   "metadata": {},
   "outputs": [
    {
     "name": "stderr",
     "output_type": "stream",
     "text": [
      " 10%|█         | 1/10 [10:28<1:34:19, 628.80s/it]"
     ]
    },
    {
     "name": "stdout",
     "output_type": "stream",
     "text": [
      "epoch 1: Train Loss 260.4838, Val Loss 120.4763\n"
     ]
    },
    {
     "name": "stderr",
     "output_type": "stream",
     "text": [
      " 20%|██        | 2/10 [21:02<1:24:11, 631.43s/it]"
     ]
    },
    {
     "name": "stdout",
     "output_type": "stream",
     "text": [
      "epoch 2: Train Loss 125.6776, Val Loss 120.8976\n"
     ]
    },
    {
     "name": "stderr",
     "output_type": "stream",
     "text": [
      " 30%|███       | 3/10 [31:34<1:13:44, 632.07s/it]"
     ]
    },
    {
     "name": "stdout",
     "output_type": "stream",
     "text": [
      "epoch 3: Train Loss 138.2272, Val Loss 120.4558\n"
     ]
    },
    {
     "name": "stderr",
     "output_type": "stream",
     "text": [
      " 40%|████      | 4/10 [42:07<1:03:14, 632.34s/it]"
     ]
    },
    {
     "name": "stdout",
     "output_type": "stream",
     "text": [
      "epoch 4: Train Loss 125.7004, Val Loss 121.6456\n"
     ]
    },
    {
     "name": "stderr",
     "output_type": "stream",
     "text": [
      " 50%|█████     | 5/10 [52:40<52:42, 632.47s/it]  "
     ]
    },
    {
     "name": "stdout",
     "output_type": "stream",
     "text": [
      "epoch 5: Train Loss 125.6113, Val Loss 120.8397\n"
     ]
    },
    {
     "name": "stderr",
     "output_type": "stream",
     "text": [
      " 60%|██████    | 6/10 [1:03:13<42:10, 632.68s/it]"
     ]
    },
    {
     "name": "stdout",
     "output_type": "stream",
     "text": [
      "epoch 6: Train Loss 125.4516, Val Loss 120.7007\n"
     ]
    },
    {
     "name": "stderr",
     "output_type": "stream",
     "text": [
      " 70%|███████   | 7/10 [1:13:46<31:38, 632.76s/it]"
     ]
    },
    {
     "name": "stdout",
     "output_type": "stream",
     "text": [
      "epoch 7: Train Loss 125.8090, Val Loss 120.4837\n"
     ]
    },
    {
     "name": "stderr",
     "output_type": "stream",
     "text": [
      " 80%|████████  | 8/10 [1:24:19<21:05, 632.75s/it]"
     ]
    },
    {
     "name": "stdout",
     "output_type": "stream",
     "text": [
      "epoch 8: Train Loss 125.9951, Val Loss 120.4260\n"
     ]
    },
    {
     "name": "stderr",
     "output_type": "stream",
     "text": [
      " 90%|█████████ | 9/10 [1:34:52<10:32, 632.80s/it]"
     ]
    },
    {
     "name": "stdout",
     "output_type": "stream",
     "text": [
      "epoch 9: Train Loss 125.9131, Val Loss 122.6513\n"
     ]
    },
    {
     "name": "stderr",
     "output_type": "stream",
     "text": [
      "100%|██████████| 10/10 [1:45:24<00:00, 632.45s/it]"
     ]
    },
    {
     "name": "stdout",
     "output_type": "stream",
     "text": [
      "epoch 10: Train Loss 125.6061, Val Loss 120.5266\n"
     ]
    },
    {
     "name": "stderr",
     "output_type": "stream",
     "text": [
      "\n"
     ]
    }
   ],
   "source": [
    "# Loss criterion and optimizer\n",
    "criterion = nn.MSELoss()\n",
    "optimizer = torch.optim.AdamW(model.parameters(), lr=1e-3)\n",
    "#device = torch.device(\"mps\")\n",
    "device = torch.device(\"cuda\" if torch.cuda.is_available() else \"cpu\")\n",
    "model.to(device)\n",
    "\n",
    "epochs = 10\n",
    "torch.manual_seed(12345)\n",
    "for epoch in tqdm(range(epochs)):\n",
    "    # Training loop\n",
    "    model.train()\n",
    "    total_train_loss = 0\n",
    "    for batch in train_loader:\n",
    "        optimizer.zero_grad(set_to_none=True)\n",
    "        input_ids, attention_mask, labels = batch\n",
    "        input_ids, attention_mask, labels = input_ids.to(device), attention_mask.to(device), labels.to(device)\n",
    "        output_dict = model(input_ids=input_ids, attention_mask=attention_mask, labels=labels)\n",
    "        predictions = output_dict.logits.squeeze(dim=1)\n",
    "        loss = criterion(predictions, labels)\n",
    "        loss.backward()\n",
    "        optimizer.step()\n",
    "        total_train_loss += loss.item()\n",
    "    avg_train_loss = total_train_loss / len(train_loader)\n",
    "\n",
    "    # Validation loop\n",
    "    model.eval()\n",
    "    total_val_loss = 0\n",
    "    with torch.no_grad():\n",
    "        for batch in val_loader:\n",
    "            input_ids, attention_mask, labels = batch\n",
    "            input_ids, attention_mask, labels = input_ids.to(device), attention_mask.to(device), labels.to(device)\n",
    "            output_dict = model(input_ids, attention_mask=attention_mask, labels=labels)\n",
    "            predictions = output_dict.logits.squeeze(dim=1)\n",
    "            loss = criterion(predictions, labels)\n",
    "            total_val_loss += loss.item()\n",
    "    avg_val_loss = total_val_loss / len(val_loader)\n",
    "    print(f\"epoch {epoch + 1}: Train Loss {avg_train_loss:.4f}, Val Loss {avg_val_loss:.4f}\")\n"
   ]
  },
  {
   "cell_type": "code",
   "execution_count": 12,
   "id": "0bc36150",
   "metadata": {},
   "outputs": [
    {
     "data": {
      "text/plain": [
       "RobertaForSequenceClassification(\n",
       "  (roberta): RobertaModel(\n",
       "    (embeddings): RobertaEmbeddings(\n",
       "      (word_embeddings): Embedding(600, 384, padding_idx=1)\n",
       "      (position_embeddings): Embedding(515, 384, padding_idx=1)\n",
       "      (token_type_embeddings): Embedding(1, 384)\n",
       "      (LayerNorm): LayerNorm((384,), eps=1e-12, elementwise_affine=True)\n",
       "      (dropout): Dropout(p=0.144, inplace=False)\n",
       "    )\n",
       "    (encoder): RobertaEncoder(\n",
       "      (layer): ModuleList(\n",
       "        (0-2): 3 x RobertaLayer(\n",
       "          (attention): RobertaAttention(\n",
       "            (self): RobertaSdpaSelfAttention(\n",
       "              (query): Linear(in_features=384, out_features=384, bias=True)\n",
       "              (key): Linear(in_features=384, out_features=384, bias=True)\n",
       "              (value): Linear(in_features=384, out_features=384, bias=True)\n",
       "              (dropout): Dropout(p=0.109, inplace=False)\n",
       "            )\n",
       "            (output): RobertaSelfOutput(\n",
       "              (dense): Linear(in_features=384, out_features=384, bias=True)\n",
       "              (LayerNorm): LayerNorm((384,), eps=1e-12, elementwise_affine=True)\n",
       "              (dropout): Dropout(p=0.144, inplace=False)\n",
       "            )\n",
       "          )\n",
       "          (intermediate): RobertaIntermediate(\n",
       "            (dense): Linear(in_features=384, out_features=464, bias=True)\n",
       "            (intermediate_act_fn): GELUActivation()\n",
       "          )\n",
       "          (output): RobertaOutput(\n",
       "            (dense): Linear(in_features=464, out_features=384, bias=True)\n",
       "            (LayerNorm): LayerNorm((384,), eps=1e-12, elementwise_affine=True)\n",
       "            (dropout): Dropout(p=0.144, inplace=False)\n",
       "          )\n",
       "        )\n",
       "      )\n",
       "    )\n",
       "  )\n",
       "  (classifier): RobertaClassificationHead(\n",
       "    (dense): Linear(in_features=384, out_features=384, bias=True)\n",
       "    (dropout): Dropout(p=0.144, inplace=False)\n",
       "    (out_proj): Linear(in_features=384, out_features=1, bias=True)\n",
       "  )\n",
       ")"
      ]
     },
     "execution_count": 12,
     "metadata": {},
     "output_type": "execute_result"
    }
   ],
   "source": [
    "model"
   ]
  },
  {
   "cell_type": "code",
   "execution_count": 13,
   "id": "53edc77d",
   "metadata": {},
   "outputs": [
    {
     "name": "stdout",
     "output_type": "stream",
     "text": [
      "Test Loss 119.8831\n"
     ]
    }
   ],
   "source": [
    "# Testing loop\n",
    "total_test_loss = 0\n",
    "test_labels = []\n",
    "test_predictions = []\n",
    "with torch.no_grad():\n",
    "    for batch in test_loader:\n",
    "        input_ids, attention_mask, labels = batch\n",
    "        input_ids, attention_mask, labels = input_ids.to(device), attention_mask.to(device), labels.to(device)\n",
    "        output_dict = model(input_ids, attention_mask=attention_mask, labels=labels)\n",
    "        predictions = output_dict.logits.squeeze(dim=1)\n",
    "        loss = criterion(predictions, labels)\n",
    "        total_test_loss += loss.item()\n",
    "        test_labels.extend(labels.tolist())\n",
    "        test_predictions.extend(predictions.tolist())\n",
    "avg_test_loss = total_test_loss / len(test_loader)\n",
    "print(f\"Test Loss {avg_test_loss:.4f}\")"
   ]
  },
  {
   "cell_type": "code",
   "execution_count": 14,
   "id": "a5325e19-2edd-4732-8732-e6b679fe7561",
   "metadata": {},
   "outputs": [
    {
     "data": {
      "text/plain": [
       "Text(0, 0.5, 'Actual')"
      ]
     },
     "execution_count": 14,
     "metadata": {},
     "output_type": "execute_result"
    },
    {
     "data": {
      "image/png": "[encoded data removed]",
      "text/plain": [
       "<Figure size 640x480 with 1 Axes>"
      ]
     },
     "metadata": {},
     "output_type": "display_data"
    }
   ],
   "source": [
    "import matplotlib.pyplot as plt\n",
    "plt.scatter(test_predictions, test_labels)\n",
    "plt.plot([4, 8], [4, 8], 'k--')\n",
    "plt.xlabel('Predicted')\n",
    "plt.ylabel('Actual')"
   ]
  },
  {
   "cell_type": "markdown",
   "id": "c67d3af7",
   "metadata": {},
   "source": [
    "## Save the model"
   ]
  },
  {
   "cell_type": "code",
   "execution_count": 15,
   "id": "2cbc7171",
   "metadata": {},
   "outputs": [
    {
     "name": "stdout",
     "output_type": "stream",
     "text": [
      "Model saved to ./chemberta_finetuned_model\n"
     ]
    }
   ],
   "source": [
    "# Define save directory\n",
    "save_directory = \"./chemberta_finetuned_model\"\n",
    "\n",
    "# Save model and tokenizer\n",
    "model.save_pretrained(save_directory)\n",
    "tokenizer.save_pretrained(save_directory)\n",
    "\n",
    "print(f\"Model saved to {save_directory}\")"
   ]
  },
  {
   "cell_type": "markdown",
   "id": "ee3c4368",
   "metadata": {},
   "source": [
    "## Loading full model"
   ]
  },
  {
   "cell_type": "code",
   "execution_count": 22,
   "id": "cfffb35f",
   "metadata": {},
   "outputs": [],
   "source": [
    "from transformers import AutoModelForSequenceClassification, AutoTokenizer\n",
    "\n",
    "# Load model and tokenizer\n",
    "model = AutoModelForSequenceClassification.from_pretrained(save_directory)\n",
    "tokenizer = AutoTokenizer.from_pretrained(save_directory)"
   ]
  },
  {
   "cell_type": "code",
   "execution_count": 23,
   "id": "38725205",
   "metadata": {},
   "outputs": [
    {
     "data": {
      "text/plain": [
       "RobertaForSequenceClassification(\n",
       "  (roberta): RobertaModel(\n",
       "    (embeddings): RobertaEmbeddings(\n",
       "      (word_embeddings): Embedding(600, 384, padding_idx=1)\n",
       "      (position_embeddings): Embedding(515, 384, padding_idx=1)\n",
       "      (token_type_embeddings): Embedding(1, 384)\n",
       "      (LayerNorm): LayerNorm((384,), eps=1e-12, elementwise_affine=True)\n",
       "      (dropout): Dropout(p=0.144, inplace=False)\n",
       "    )\n",
       "    (encoder): RobertaEncoder(\n",
       "      (layer): ModuleList(\n",
       "        (0-2): 3 x RobertaLayer(\n",
       "          (attention): RobertaAttention(\n",
       "            (self): RobertaSdpaSelfAttention(\n",
       "              (query): Linear(in_features=384, out_features=384, bias=True)\n",
       "              (key): Linear(in_features=384, out_features=384, bias=True)\n",
       "              (value): Linear(in_features=384, out_features=384, bias=True)\n",
       "              (dropout): Dropout(p=0.109, inplace=False)\n",
       "            )\n",
       "            (output): RobertaSelfOutput(\n",
       "              (dense): Linear(in_features=384, out_features=384, bias=True)\n",
       "              (LayerNorm): LayerNorm((384,), eps=1e-12, elementwise_affine=True)\n",
       "              (dropout): Dropout(p=0.144, inplace=False)\n",
       "            )\n",
       "          )\n",
       "          (intermediate): RobertaIntermediate(\n",
       "            (dense): Linear(in_features=384, out_features=464, bias=True)\n",
       "            (intermediate_act_fn): GELUActivation()\n",
       "          )\n",
       "          (output): RobertaOutput(\n",
       "            (dense): Linear(in_features=464, out_features=384, bias=True)\n",
       "            (LayerNorm): LayerNorm((384,), eps=1e-12, elementwise_affine=True)\n",
       "            (dropout): Dropout(p=0.144, inplace=False)\n",
       "          )\n",
       "        )\n",
       "      )\n",
       "    )\n",
       "  )\n",
       "  (classifier): RobertaClassificationHead(\n",
       "    (dense): Linear(in_features=384, out_features=384, bias=True)\n",
       "    (dropout): Dropout(p=0.144, inplace=False)\n",
       "    (out_proj): Linear(in_features=384, out_features=1, bias=True)\n",
       "  )\n",
       ")"
      ]
     },
     "execution_count": 23,
     "metadata": {},
     "output_type": "execute_result"
    }
   ],
   "source": [
    "model"
   ]
  },
  {
   "cell_type": "markdown",
   "id": "43b43db3",
   "metadata": {},
   "source": [
    "## Predict on new smiles"
   ]
  },
  {
   "cell_type": "code",
   "execution_count": 24,
   "id": "d8def1f3",
   "metadata": {},
   "outputs": [
    {
     "data": {
      "text/plain": [
       "RobertaForSequenceClassification(\n",
       "  (roberta): RobertaModel(\n",
       "    (embeddings): RobertaEmbeddings(\n",
       "      (word_embeddings): Embedding(600, 384, padding_idx=1)\n",
       "      (position_embeddings): Embedding(515, 384, padding_idx=1)\n",
       "      (token_type_embeddings): Embedding(1, 384)\n",
       "      (LayerNorm): LayerNorm((384,), eps=1e-12, elementwise_affine=True)\n",
       "      (dropout): Dropout(p=0.144, inplace=False)\n",
       "    )\n",
       "    (encoder): RobertaEncoder(\n",
       "      (layer): ModuleList(\n",
       "        (0-2): 3 x RobertaLayer(\n",
       "          (attention): RobertaAttention(\n",
       "            (self): RobertaSdpaSelfAttention(\n",
       "              (query): Linear(in_features=384, out_features=384, bias=True)\n",
       "              (key): Linear(in_features=384, out_features=384, bias=True)\n",
       "              (value): Linear(in_features=384, out_features=384, bias=True)\n",
       "              (dropout): Dropout(p=0.109, inplace=False)\n",
       "            )\n",
       "            (output): RobertaSelfOutput(\n",
       "              (dense): Linear(in_features=384, out_features=384, bias=True)\n",
       "              (LayerNorm): LayerNorm((384,), eps=1e-12, elementwise_affine=True)\n",
       "              (dropout): Dropout(p=0.144, inplace=False)\n",
       "            )\n",
       "          )\n",
       "          (intermediate): RobertaIntermediate(\n",
       "            (dense): Linear(in_features=384, out_features=464, bias=True)\n",
       "            (intermediate_act_fn): GELUActivation()\n",
       "          )\n",
       "          (output): RobertaOutput(\n",
       "            (dense): Linear(in_features=464, out_features=384, bias=True)\n",
       "            (LayerNorm): LayerNorm((384,), eps=1e-12, elementwise_affine=True)\n",
       "            (dropout): Dropout(p=0.144, inplace=False)\n",
       "          )\n",
       "        )\n",
       "      )\n",
       "    )\n",
       "  )\n",
       "  (classifier): RobertaClassificationHead(\n",
       "    (dense): Linear(in_features=384, out_features=384, bias=True)\n",
       "    (dropout): Dropout(p=0.144, inplace=False)\n",
       "    (out_proj): Linear(in_features=384, out_features=1, bias=True)\n",
       "  )\n",
       ")"
      ]
     },
     "execution_count": 24,
     "metadata": {},
     "output_type": "execute_result"
    }
   ],
   "source": [
    "# Move to device\n",
    "device = torch.device(\"cuda\" if torch.cuda.is_available() else \"cpu\")\n",
    "model.to(device)\n",
    "model.eval()"
   ]
  },
  {
   "cell_type": "code",
   "execution_count": 29,
   "id": "0f32a7b2",
   "metadata": {},
   "outputs": [],
   "source": [
    "# 2. Tokenize a new SMILES string\n",
    "def tokenize_smiles(smiles, tokenizer, max_length=512):\n",
    "    encoding = tokenizer(\n",
    "        smiles,\n",
    "        add_special_tokens=True,\n",
    "        truncation=True,\n",
    "        padding=\"max_length\",\n",
    "        max_length=max_length,\n",
    "        return_tensors=\"pt\"  # Return PyTorch tensors\n",
    "    )\n",
    "    return encoding[\"input_ids\"], encoding[\"attention_mask\"]\n",
    "\n",
    "new_smiles = \"[H]O[H]\"  # <-- Third row in df, true value is -10.370616\t\n",
    "input_ids, attention_mask = tokenize_smiles(new_smiles, tokenizer)\n",
    "input_ids = input_ids.to(device)\n",
    "attention_mask = attention_mask.to(device)"
   ]
  },
  {
   "cell_type": "code",
   "execution_count": 30,
   "id": "35b331d8",
   "metadata": {},
   "outputs": [
    {
     "name": "stdout",
     "output_type": "stream",
     "text": [
      "Predicted value for SMILES '[H]O[H]': -82.7963\n"
     ]
    }
   ],
   "source": [
    "# 3. Predict\n",
    "with torch.no_grad():\n",
    "    outputs = model(input_ids=input_ids, attention_mask=attention_mask)\n",
    "    prediction = outputs.logits.squeeze().item()  # For regression output\n",
    "\n",
    "print(f\"Predicted value for SMILES '{new_smiles}': {prediction:.4f}\")"
   ]
  },
  {
   "cell_type": "markdown",
   "id": "7464e734",
   "metadata": {},
   "source": [
    "# Again but with early stopping + learning rate scheduler + gradient clipper (for stability) + extra logging"
   ]
  },
  {
   "cell_type": "code",
   "execution_count": null,
   "id": "f3b6255b",
   "metadata": {},
   "outputs": [],
   "source": [
    "# # Loss criterion and optimizer\n",
    "# criterion = nn.MSELoss()\n",
    "# optimizer = torch.optim.AdamW(model.parameters(), lr=1e-3)\n",
    "# scheduler = torch.optim.lr_scheduler.ReduceLROnPlateau(optimizer, mode='min', factor=0.5, patience=2)\n",
    "\n",
    "# device = torch.device(\"cuda\" if torch.cuda.is_available() else \"cpu\")\n",
    "# model.to(device)\n",
    "\n",
    "# # Training parameters\n",
    "# epochs = 10\n",
    "# best_val_loss = float('inf')\n",
    "# patience = 3\n",
    "# patience_counter = 0\n",
    "\n",
    "# torch.manual_seed(12345)\n",
    "\n",
    "# for epoch in tqdm(range(epochs)):\n",
    "#     # Training loop\n",
    "#     model.train()\n",
    "#     total_train_loss = 0\n",
    "#     for batch in train_loader:\n",
    "#         optimizer.zero_grad(set_to_none=True)\n",
    "#         input_ids, attention_mask, labels = batch\n",
    "#         input_ids, attention_mask, labels = input_ids.to(device), attention_mask.to(device), labels.to(device)\n",
    "        \n",
    "#         output_dict = model(input_ids=input_ids, attention_mask=attention_mask, labels=labels)\n",
    "#         predictions = output_dict.logits.squeeze(dim=1)\n",
    "#         loss = criterion(predictions, labels)\n",
    "        \n",
    "#         loss.backward()\n",
    "#         torch.nn.utils.clip_grad_norm_(model.parameters(), max_norm=1.0)\n",
    "#         optimizer.step()\n",
    "#         total_train_loss += loss.item()\n",
    "    \n",
    "#     avg_train_loss = total_train_loss / len(train_loader)\n",
    "\n",
    "#     # Validation loop\n",
    "#     model.eval()\n",
    "#     total_val_loss = 0\n",
    "#     with torch.no_grad():\n",
    "#         for batch in val_loader:\n",
    "#             input_ids, attention_mask, labels = batch\n",
    "#             input_ids, attention_mask, labels = input_ids.to(device), attention_mask.to(device), labels.to(device)\n",
    "            \n",
    "#             output_dict = model(input_ids=input_ids, attention_mask=attention_mask, labels=labels)\n",
    "#             predictions = output_dict.logits.squeeze(dim=1)\n",
    "#             loss = criterion(predictions, labels)\n",
    "#             total_val_loss += loss.item()\n",
    "    \n",
    "#     avg_val_loss = total_val_loss / len(val_loader)\n",
    "#     print(f\"Epoch {epoch + 1}: Train Loss {avg_train_loss:.4f}, Val Loss {avg_val_loss:.4f}\")\n",
    "    \n",
    "#     # Learning rate scheduling\n",
    "#     scheduler.step(avg_val_loss)\n",
    "    \n",
    "#     # Early stopping\n",
    "#     if avg_val_loss < best_val_loss:\n",
    "#         best_val_loss = avg_val_loss\n",
    "#         patience_counter = 0\n",
    "#         torch.save(model.state_dict(), 'best_chemberta_model.pth')\n",
    "#     else:\n",
    "#         patience_counter += 1\n",
    "#         if patience_counter >= patience:\n",
    "#             print(f\"Early stopping at epoch {epoch + 1}\")\n",
    "#             break\n",
    "\n",
    "# print(\"Training completed!\")"
   ]
  }
 ],
 "metadata": {
  "kernelspec": {
   "display_name": "recom_sys_qm9",
   "language": "python",
   "name": "python3"
  },
  "language_info": {
   "codemirror_mode": {
    "name": "ipython",
    "version": 3
   },
   "file_extension": ".py",
   "mimetype": "text/x-python",
   "name": "python",
   "nbconvert_exporter": "python",
   "pygments_lexer": "ipython3",
   "version": "3.9.18"
  }
 },
 "nbformat": 4,
 "nbformat_minor": 5
}
